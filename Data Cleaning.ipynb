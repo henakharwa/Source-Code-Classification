{
  "cells": [
    {
      "cell_type": "code",
      "execution_count": null,
      "metadata": {
        "id": "fCSnCYOA0NaB"
      },
      "outputs": [],
      "source": [
        "import logging\n",
        "import pandas as pd\n",
        "import numpy as np\n",
        "from numpy import random\n",
        "import gensim\n",
        "import nltk\n",
        "from sklearn.model_selection import train_test_split\n",
        "from sklearn.feature_extraction.text import CountVectorizer, TfidfVectorizer\n",
        "from sklearn.metrics import accuracy_score, confusion_matrix\n",
        "import matplotlib.pyplot as plt\n",
        "from nltk.corpus import stopwords\n",
        "import re\n",
        "from bs4 import BeautifulSoup\n",
        "%matplotlib inline\n",
        "import tarfile\n",
        "import os"
      ]
    },
    {
      "cell_type": "code",
      "execution_count": null,
      "metadata": {
        "id": "0yEGVnab07t9"
      },
      "outputs": [],
      "source": [
        "def untar_file(tar_filepath, extract_path=\".\"):\n",
        "    try:\n",
        "        with tarfile.open(tar_filepath, \"r\") as tar:\n",
        "            tar.extractall(path=extract_path)\n",
        "        print(f\"Successfully extracted {tar_filepath} to {extract_path}\")\n",
        "    except tarfile.ReadError:\n",
        "        print(f\"Error: Could not open {tar_filepath}. It may not be a valid tar file.\")\n",
        "    except FileNotFoundError:\n",
        "        print(f\"Error: File not found: {tar_filepath}\")\n",
        "    except Exception as e: # Catch other potential exceptions\n",
        "        print(f\"An error occurred: {e}\")"
      ]
    },
    {
      "cell_type": "code",
      "execution_count": null,
      "metadata": {
        "id": "ZVpNRxl68LVo"
      },
      "outputs": [],
      "source": [
        "def count_files(folder_path, indent=\"\"):\n",
        "    try:\n",
        "        file_count = 0\n",
        "        print(indent + os.path.basename(folder_path), end=\"\")  # Print folder name\n",
        "\n",
        "        for item in os.listdir(folder_path):\n",
        "            item_path = os.path.join(folder_path, item)\n",
        "            if os.path.isfile(item_path):\n",
        "                file_count += 1\n",
        "            elif os.path.isdir(item_path):\n",
        "                print(\"\") #newline\n",
        "                count_files(item_path, indent + \"  \")\n",
        "        if file_count > 0: # only print if there are files\n",
        "            print(f\": {file_count}\")\n",
        "\n",
        "    except FileNotFoundError:\n",
        "        print(f\"Error: Folder not found: {folder_path}\")\n",
        "    except NotADirectoryError:\n",
        "        print(f\"Error: {folder_path} is not a directory.\")"
      ]
    },
    {
      "cell_type": "code",
      "execution_count": null,
      "metadata": {
        "id": "EaNsJVK61jkv"
      },
      "outputs": [],
      "source": [
        "#untar_file(\"/content/drive/MyDrive/Pattern Recognition Data/Copy of Sorting-completed.tar\", \"/content/drive/MyDrive/Pattern Recognition Data/\")\n",
        "#untar_file(\"/content/drive/MyDrive/Pattern Recognition Data/Copy of graph-completed.tar\", \"/content/drive/MyDrive/Pattern Recognition Data/\")\n",
        "#untar_file(\"/content/drive/MyDrive/Pattern Recognition Data/Copy of searching-completed.tar\", \"/content/drive/MyDrive/Pattern Recognition Data/\")"
      ]
    },
    {
      "cell_type": "code",
      "execution_count": null,
      "metadata": {
        "id": "8f8WXH8a59sZ"
      },
      "outputs": [],
      "source": [
        "algo_types = ['searching', 'sorting', 'graphs']\n",
        "searching_types = ['BFS', 'DFS', 'Binary Search', 'Ternary Search']\n",
        "sorting_types = ['Bubble Sort', 'Bucket Sort', 'Insertion Sort', 'Merge Sort', 'Quick Sort', 'Selection Sort']\n",
        "graph_types = ['Bellman-Ford', 'Djikstra', 'Floyd Warshall', 'Kruskal', 'Prim']\n",
        "langs = [\"C\", \"C++\", \"Java\", \"JavaScript\", \"Python\", \"C#\"]"
      ]
    },
    {
      "cell_type": "code",
      "execution_count": null,
      "metadata": {
        "colab": {
          "base_uri": "https://localhost:8080/"
        },
        "id": "bOQi7f8f70mL",
        "outputId": "f2b67061-2a6c-47bf-c801-9e69a29cc4b4"
      },
      "outputs": [
        {
          "output_type": "stream",
          "name": "stdout",
          "text": [
            "Error: Folder not found: /content/drive/MyDrive/Pattern Recognition Data/sorting/\n"
          ]
        }
      ],
      "source": [
        "folder_path_1 = \"/content/drive/MyDrive/Pattern Recognition Data/sorting/\"  # Replace with the actual folder path\n",
        "count_files(folder_path_1)"
      ]
    },
    {
      "cell_type": "code",
      "execution_count": null,
      "metadata": {
        "colab": {
          "base_uri": "https://localhost:8080/"
        },
        "id": "s3OtIpzH9OBm",
        "outputId": "fd465656-ec25-450d-dbf3-1cd442997b9c"
      },
      "outputs": [
        {
          "name": "stdout",
          "output_type": "stream",
          "text": [
            "graphs\n",
            "  Dijkstra's Algorithm\n",
            "    Python: 1020\n",
            "\n",
            "    C++: 1020\n",
            "\n",
            "    C: 1020\n",
            "\n",
            "    Java: 1020\n",
            "\n",
            "    Javascript: 1020\n",
            "\n",
            "  Bellman-Ford Algorithm\n",
            "    Python: 1020\n",
            "\n",
            "    C++: 1020\n",
            "\n",
            "    C: 661\n",
            "\n",
            "    Java: 1020\n",
            "\n",
            "    Javascript: 534\n",
            "\n",
            "  Floyd-Warshall Algorithm\n",
            "    Python: 1020\n",
            "\n",
            "    C++: 1020\n",
            "\n",
            "    C: 785\n",
            "\n",
            "    Java: 1020\n",
            "\n",
            "    Javascript: 1020\n"
          ]
        }
      ],
      "source": [
        "folder_path_2 = \"/content/drive/MyDrive/Pattern Recognition Data/graphs\"  # Replace with the actual folder path\n",
        "num_files_2 = count_files(folder_path_2)"
      ]
    },
    {
      "cell_type": "code",
      "execution_count": null,
      "metadata": {
        "colab": {
          "base_uri": "https://localhost:8080/"
        },
        "id": "djqhaMMy9N2P",
        "outputId": "9e039500-8981-4b06-de65-7bac9f33f68f"
      },
      "outputs": [
        {
          "name": "stdout",
          "output_type": "stream",
          "text": [
            "searching\n",
            "  Binary Search\n",
            "    Python: 1020\n",
            "\n",
            "    C++: 1020\n",
            "\n",
            "    Javascript: 1019\n",
            "\n",
            "    Java: 1020\n",
            "\n",
            "    C: 1020\n",
            "\n",
            "  Ternary Search\n",
            "    Python: 1020\n",
            "\n",
            "    C++: 1020\n",
            "\n",
            "    Javascript: 1020\n",
            "\n",
            "    Java: 1020\n",
            "\n",
            "    C: 1020\n",
            "\n",
            "  DFS\n",
            "    Python: 1020\n",
            "\n",
            "    C++: 1020\n",
            "\n",
            "    Javascript: 1020\n",
            "\n",
            "    C: 1020\n",
            "\n",
            "    Java: 1020\n",
            "\n",
            "  BFS\n",
            "    Python: 1020\n",
            "\n",
            "    C++: 1020\n",
            "\n",
            "    C: 1020\n",
            "\n",
            "    Java: 1020\n",
            "\n",
            "    Javascript: 1019\n"
          ]
        }
      ],
      "source": [
        "folder_path_3 = \"/content/drive/MyDrive/Pattern Recognition Data/searching\"  # Replace with the actual folder path\n",
        "num_files_3 = count_files(folder_path_3)"
      ]
    },
    {
      "cell_type": "code",
      "execution_count": null,
      "metadata": {
        "id": "Clr9pFVIIL7c"
      },
      "outputs": [],
      "source": [
        "def delete_desktop_ini(folder_path):\n",
        "    \"\"\"Recursively deletes 'desktop.ini' files within a folder and its subfolders.\n",
        "\n",
        "    Args:\n",
        "        folder_path: The path to the folder.\n",
        "    \"\"\"\n",
        "    try:\n",
        "        for item in os.listdir(folder_path):\n",
        "            item_path = os.path.join(folder_path, item)\n",
        "            if os.path.isfile(item_path) and item.lower() == \"desktop.ini\":\n",
        "                try:\n",
        "                    os.remove(item_path)\n",
        "                    print(f\"Deleted: {item_path}\")\n",
        "                except OSError as e:\n",
        "                    print(f\"Error deleting {item_path}: {e}\")\n",
        "            elif os.path.isdir(item_path):\n",
        "                delete_desktop_ini(item_path)  # Recursive call\n",
        "    except FileNotFoundError:\n",
        "        print(f\"Error: Folder not found: {folder_path}\")\n",
        "    except NotADirectoryError:\n",
        "        print(f\"Error: {folder_path} is not a directory.\")\n",
        "    except PermissionError as e:\n",
        "        print(f\"Error: Permission denied for {folder_path}: {e}\")"
      ]
    },
    {
      "cell_type": "code",
      "execution_count": null,
      "metadata": {
        "colab": {
          "base_uri": "https://localhost:8080/"
        },
        "id": "Nff9PDjbIJc0",
        "outputId": "9daed8fd-da4a-4459-adfb-471d2d4a1805"
      },
      "outputs": [
        {
          "name": "stdout",
          "output_type": "stream",
          "text": [
            "Deleted: ./drive/MyDrive/Pattern Recognition Data/Sorting-completed/bubble sort/Java/desktop.ini\n",
            "Deleted: ./drive/MyDrive/Pattern Recognition Data/Sorting-completed/bubble sort/C/desktop.ini\n",
            "Deleted: ./drive/MyDrive/Pattern Recognition Data/Sorting-completed/bubble sort/Javascript/desktop.ini\n",
            "Deleted: ./drive/MyDrive/Pattern Recognition Data/Sorting-completed/bubble sort/C#/desktop.ini\n",
            "Deleted: ./drive/MyDrive/Pattern Recognition Data/Sorting-completed/bubble sort/Python/desktop.ini\n",
            "Deleted: ./drive/MyDrive/Pattern Recognition Data/Sorting-completed/bubble sort/C++/desktop.ini\n",
            "Deleted: ./drive/MyDrive/Pattern Recognition Data/Sorting-completed/bubble sort/desktop.ini\n",
            "Deleted: ./drive/MyDrive/Pattern Recognition Data/Sorting-completed/merge sort/Java/desktop.ini\n",
            "Deleted: ./drive/MyDrive/Pattern Recognition Data/Sorting-completed/merge sort/C/desktop.ini\n",
            "Deleted: ./drive/MyDrive/Pattern Recognition Data/Sorting-completed/merge sort/Javascript/desktop.ini\n",
            "Deleted: ./drive/MyDrive/Pattern Recognition Data/Sorting-completed/merge sort/C#/desktop.ini\n",
            "Deleted: ./drive/MyDrive/Pattern Recognition Data/Sorting-completed/merge sort/Python/desktop.ini\n",
            "Deleted: ./drive/MyDrive/Pattern Recognition Data/Sorting-completed/merge sort/C++/desktop.ini\n",
            "Deleted: ./drive/MyDrive/Pattern Recognition Data/Sorting-completed/merge sort/desktop.ini\n",
            "Deleted: ./drive/MyDrive/Pattern Recognition Data/Sorting-completed/quick sort/Java/desktop.ini\n",
            "Deleted: ./drive/MyDrive/Pattern Recognition Data/Sorting-completed/quick sort/C/desktop.ini\n",
            "Deleted: ./drive/MyDrive/Pattern Recognition Data/Sorting-completed/quick sort/Javascript/desktop.ini\n",
            "Deleted: ./drive/MyDrive/Pattern Recognition Data/Sorting-completed/quick sort/C#/desktop.ini\n",
            "Deleted: ./drive/MyDrive/Pattern Recognition Data/Sorting-completed/quick sort/Python/desktop.ini\n",
            "Deleted: ./drive/MyDrive/Pattern Recognition Data/Sorting-completed/quick sort/C++/desktop.ini\n",
            "Deleted: ./drive/MyDrive/Pattern Recognition Data/Sorting-completed/quick sort/desktop.ini\n",
            "Deleted: ./drive/MyDrive/Pattern Recognition Data/Sorting-completed/selection sort/Java/desktop.ini\n",
            "Deleted: ./drive/MyDrive/Pattern Recognition Data/Sorting-completed/selection sort/C/desktop.ini\n",
            "Deleted: ./drive/MyDrive/Pattern Recognition Data/Sorting-completed/selection sort/Javascript/desktop.ini\n",
            "Deleted: ./drive/MyDrive/Pattern Recognition Data/Sorting-completed/selection sort/C#/desktop.ini\n",
            "Deleted: ./drive/MyDrive/Pattern Recognition Data/Sorting-completed/selection sort/desktop.ini\n",
            "Deleted: ./drive/MyDrive/Pattern Recognition Data/Sorting-completed/insertion sort/Java/desktop.ini\n",
            "Deleted: ./drive/MyDrive/Pattern Recognition Data/Sorting-completed/insertion sort/C/desktop.ini\n",
            "Deleted: ./drive/MyDrive/Pattern Recognition Data/Sorting-completed/insertion sort/Javascript/desktop.ini\n",
            "Deleted: ./drive/MyDrive/Pattern Recognition Data/Sorting-completed/insertion sort/C#/desktop.ini\n",
            "Deleted: ./drive/MyDrive/Pattern Recognition Data/Sorting-completed/insertion sort/C++/desktop.ini\n",
            "Deleted: ./drive/MyDrive/Pattern Recognition Data/Sorting-completed/insertion sort/Python/desktop.ini\n",
            "Deleted: ./drive/MyDrive/Pattern Recognition Data/Sorting-completed/insertion sort/desktop.ini\n",
            "Deleted: ./drive/MyDrive/Pattern Recognition Data/Sorting-completed/bucket sort/Java/desktop.ini\n",
            "Deleted: ./drive/MyDrive/Pattern Recognition Data/Sorting-completed/bucket sort/C/desktop.ini\n",
            "Deleted: ./drive/MyDrive/Pattern Recognition Data/Sorting-completed/bucket sort/Javascript/desktop.ini\n",
            "Deleted: ./drive/MyDrive/Pattern Recognition Data/Sorting-completed/bucket sort/C#/desktop.ini\n",
            "Deleted: ./drive/MyDrive/Pattern Recognition Data/Sorting-completed/bucket sort/Python/desktop.ini\n",
            "Deleted: ./drive/MyDrive/Pattern Recognition Data/Sorting-completed/bucket sort/C++/desktop.ini\n",
            "Deleted: ./drive/MyDrive/Pattern Recognition Data/Sorting-completed/bucket sort/desktop.ini\n",
            "Deleted: ./drive/MyDrive/Pattern Recognition Data/Sorting-completed/desktop.ini\n",
            "Deleted: ./drive/MyDrive/Pattern Recognition Data/graph-completed/Dijkstra's Algorithm/Python/desktop.ini\n",
            "Deleted: ./drive/MyDrive/Pattern Recognition Data/graph-completed/Dijkstra's Algorithm/C++/desktop.ini\n",
            "Deleted: ./drive/MyDrive/Pattern Recognition Data/graph-completed/Dijkstra's Algorithm/C/desktop.ini\n",
            "Deleted: ./drive/MyDrive/Pattern Recognition Data/graph-completed/Dijkstra's Algorithm/Java/desktop.ini\n",
            "Deleted: ./drive/MyDrive/Pattern Recognition Data/graph-completed/Dijkstra's Algorithm/Javascript/desktop.ini\n",
            "Deleted: ./drive/MyDrive/Pattern Recognition Data/graph-completed/Dijkstra's Algorithm/C#/desktop.ini\n",
            "Deleted: ./drive/MyDrive/Pattern Recognition Data/graph-completed/Dijkstra's Algorithm/desktop.ini\n",
            "Deleted: ./drive/MyDrive/Pattern Recognition Data/graph-completed/Bellman-Ford Algorithm/Python/desktop.ini\n",
            "Deleted: ./drive/MyDrive/Pattern Recognition Data/graph-completed/Bellman-Ford Algorithm/C++/desktop.ini\n",
            "Deleted: ./drive/MyDrive/Pattern Recognition Data/graph-completed/Bellman-Ford Algorithm/C/desktop.ini\n",
            "Deleted: ./drive/MyDrive/Pattern Recognition Data/graph-completed/Bellman-Ford Algorithm/Java/desktop.ini\n",
            "Deleted: ./drive/MyDrive/Pattern Recognition Data/graph-completed/Bellman-Ford Algorithm/Javascript/desktop.ini\n",
            "Deleted: ./drive/MyDrive/Pattern Recognition Data/graph-completed/Bellman-Ford Algorithm/C#/desktop.ini\n",
            "Deleted: ./drive/MyDrive/Pattern Recognition Data/graph-completed/Bellman-Ford Algorithm/desktop.ini\n",
            "Deleted: ./drive/MyDrive/Pattern Recognition Data/graph-completed/Floyd-Warshall Algorithm/Python/desktop.ini\n",
            "Deleted: ./drive/MyDrive/Pattern Recognition Data/graph-completed/Floyd-Warshall Algorithm/C++/desktop.ini\n",
            "Deleted: ./drive/MyDrive/Pattern Recognition Data/graph-completed/Floyd-Warshall Algorithm/C/desktop.ini\n",
            "Deleted: ./drive/MyDrive/Pattern Recognition Data/graph-completed/Floyd-Warshall Algorithm/Java/desktop.ini\n",
            "Deleted: ./drive/MyDrive/Pattern Recognition Data/graph-completed/Floyd-Warshall Algorithm/Javascript/desktop.ini\n",
            "Deleted: ./drive/MyDrive/Pattern Recognition Data/graph-completed/Floyd-Warshall Algorithm/C#/desktop.ini\n",
            "Deleted: ./drive/MyDrive/Pattern Recognition Data/graph-completed/Floyd-Warshall Algorithm/desktop.ini\n",
            "Deleted: ./drive/MyDrive/Pattern Recognition Data/graph-completed/Kruskal’s Algorithm/Python/desktop.ini\n",
            "Deleted: ./drive/MyDrive/Pattern Recognition Data/graph-completed/Kruskal’s Algorithm/C++/desktop.ini\n",
            "Deleted: ./drive/MyDrive/Pattern Recognition Data/graph-completed/Kruskal’s Algorithm/Javascript/desktop.ini\n",
            "Deleted: ./drive/MyDrive/Pattern Recognition Data/graph-completed/Kruskal’s Algorithm/C#/desktop.ini\n",
            "Deleted: ./drive/MyDrive/Pattern Recognition Data/graph-completed/Kruskal’s Algorithm/C/desktop.ini\n",
            "Deleted: ./drive/MyDrive/Pattern Recognition Data/graph-completed/Kruskal’s Algorithm/Java/desktop.ini\n",
            "Deleted: ./drive/MyDrive/Pattern Recognition Data/graph-completed/Kruskal’s Algorithm/desktop.ini\n",
            "Deleted: ./drive/MyDrive/Pattern Recognition Data/graph-completed/Prim’s Algorithm/Python/desktop.ini\n",
            "Deleted: ./drive/MyDrive/Pattern Recognition Data/graph-completed/Prim’s Algorithm/C++/desktop.ini\n",
            "Deleted: ./drive/MyDrive/Pattern Recognition Data/graph-completed/Prim’s Algorithm/C#/desktop.ini\n",
            "Deleted: ./drive/MyDrive/Pattern Recognition Data/graph-completed/Prim’s Algorithm/Javascript/desktop.ini\n",
            "Deleted: ./drive/MyDrive/Pattern Recognition Data/graph-completed/Prim’s Algorithm/C/desktop.ini\n",
            "Deleted: ./drive/MyDrive/Pattern Recognition Data/graph-completed/Prim’s Algorithm/Java/desktop.ini\n",
            "Deleted: ./drive/MyDrive/Pattern Recognition Data/graph-completed/Prim’s Algorithm/desktop.ini\n",
            "Deleted: ./drive/MyDrive/Pattern Recognition Data/graph-completed/desktop.ini\n",
            "Deleted: ./drive/MyDrive/Pattern Recognition Data/searching-completed/Binary Search/Python/desktop.ini\n",
            "Deleted: ./drive/MyDrive/Pattern Recognition Data/searching-completed/Binary Search/C++/desktop.ini\n",
            "Deleted: ./drive/MyDrive/Pattern Recognition Data/searching-completed/Binary Search/Javascript/desktop.ini\n",
            "Deleted: ./drive/MyDrive/Pattern Recognition Data/searching-completed/Binary Search/C#/desktop.ini\n",
            "Deleted: ./drive/MyDrive/Pattern Recognition Data/searching-completed/Binary Search/Java/desktop.ini\n",
            "Deleted: ./drive/MyDrive/Pattern Recognition Data/searching-completed/Binary Search/C/desktop.ini\n",
            "Deleted: ./drive/MyDrive/Pattern Recognition Data/searching-completed/Binary Search/desktop.ini\n",
            "Deleted: ./drive/MyDrive/Pattern Recognition Data/searching-completed/Ternary Search/Python/desktop.ini\n",
            "Deleted: ./drive/MyDrive/Pattern Recognition Data/searching-completed/Ternary Search/C++/desktop.ini\n",
            "Deleted: ./drive/MyDrive/Pattern Recognition Data/searching-completed/Ternary Search/Javascript/desktop.ini\n",
            "Deleted: ./drive/MyDrive/Pattern Recognition Data/searching-completed/Ternary Search/C#/desktop.ini\n",
            "Deleted: ./drive/MyDrive/Pattern Recognition Data/searching-completed/Ternary Search/Java/desktop.ini\n",
            "Deleted: ./drive/MyDrive/Pattern Recognition Data/searching-completed/Ternary Search/C/desktop.ini\n",
            "Deleted: ./drive/MyDrive/Pattern Recognition Data/searching-completed/Ternary Search/desktop.ini\n",
            "Deleted: ./drive/MyDrive/Pattern Recognition Data/searching-completed/DFS/Python/desktop.ini\n",
            "Deleted: ./drive/MyDrive/Pattern Recognition Data/searching-completed/DFS/C++/desktop.ini\n",
            "Deleted: ./drive/MyDrive/Pattern Recognition Data/searching-completed/DFS/Javascript/desktop.ini\n",
            "Deleted: ./drive/MyDrive/Pattern Recognition Data/searching-completed/DFS/C#/desktop.ini\n",
            "Deleted: ./drive/MyDrive/Pattern Recognition Data/searching-completed/DFS/C/desktop.ini\n",
            "Deleted: ./drive/MyDrive/Pattern Recognition Data/searching-completed/DFS/Java/desktop.ini\n",
            "Deleted: ./drive/MyDrive/Pattern Recognition Data/searching-completed/DFS/desktop.ini\n",
            "Deleted: ./drive/MyDrive/Pattern Recognition Data/searching-completed/BFS/Python/desktop.ini\n",
            "Deleted: ./drive/MyDrive/Pattern Recognition Data/searching-completed/BFS/C++/desktop.ini\n",
            "Deleted: ./drive/MyDrive/Pattern Recognition Data/searching-completed/BFS/C/desktop.ini\n",
            "Deleted: ./drive/MyDrive/Pattern Recognition Data/searching-completed/BFS/Java/desktop.ini\n",
            "Deleted: ./drive/MyDrive/Pattern Recognition Data/searching-completed/BFS/C#/desktop.ini\n",
            "Deleted: ./drive/MyDrive/Pattern Recognition Data/searching-completed/BFS/Javascript/desktop.ini\n",
            "Deleted: ./drive/MyDrive/Pattern Recognition Data/searching-completed/BFS/desktop.ini\n",
            "Deleted: ./drive/MyDrive/Pattern Recognition Data/searching-completed/desktop.ini\n"
          ]
        }
      ],
      "source": [
        "folder_path = \".\"  # Use \".\" for the current directory or specify a path\n",
        "delete_desktop_ini(folder_path)"
      ]
    },
    {
      "cell_type": "code",
      "execution_count": null,
      "metadata": {
        "id": "DkAA1pP_jADj"
      },
      "outputs": [],
      "source": [
        "def tar_folder(source_dir, output_filename, compression=\"gz\"):\n",
        "    try:\n",
        "        if compression == \"gz\":\n",
        "            mode = \"w:gz\"\n",
        "        elif compression == \"bz2\":\n",
        "            mode = \"w:bz2\"\n",
        "        elif compression is None:\n",
        "            mode = \"w\"\n",
        "        else:\n",
        "            raise ValueError(\"Invalid compression type. Choose 'gz', 'bz2', or None.\")\n",
        "\n",
        "        with tarfile.open(output_filename, mode) as tar:\n",
        "            for root, _, files in os.walk(source_dir):\n",
        "                for file in files:\n",
        "                    file_path = os.path.join(root, file)\n",
        "                    arcname = os.path.relpath(file_path, source_dir) # important for preserving folder structure\n",
        "                    tar.add(file_path, arcname=arcname)\n",
        "        print(f\"Successfully created archive: {output_filename}\")\n",
        "    except FileNotFoundError:\n",
        "        print(f\"Error: Source directory not found: {source_dir}\")\n",
        "    except OSError as e:\n",
        "        print(f\"Error creating archive: {e}\")\n",
        "    except ValueError as e:\n",
        "        print(e)\n",
        "    except Exception as e:\n",
        "        print(f\"An unexpected error occurred: {e}\")"
      ]
    },
    {
      "cell_type": "code",
      "execution_count": null,
      "metadata": {
        "colab": {
          "background_save": true
        },
        "id": "490flIzcjQSa",
        "outputId": "6b3174b3-8a8a-4c31-e336-3226fd591277"
      },
      "outputs": [
        {
          "name": "stdout",
          "output_type": "stream",
          "text": [
            "Successfully created archive: graphs.tar.gz\n"
          ]
        }
      ],
      "source": [
        "# Example Usage\n",
        "source_directory = \"/content/drive/MyDrive/Pattern Data/graphs\" # Replace with the actual path\n",
        "output_file = \"graphs.tar.gz\"\n",
        "tar_folder(source_directory, output_file)"
      ]
    }
  ],
  "metadata": {
    "colab": {
      "machine_shape": "hm",
      "provenance": []
    },
    "kernelspec": {
      "display_name": "Python 3",
      "name": "python3"
    },
    "language_info": {
      "name": "python"
    }
  },
  "nbformat": 4,
  "nbformat_minor": 0
}